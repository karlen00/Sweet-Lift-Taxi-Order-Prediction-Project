{
 "cells": [
  {
   "cell_type": "markdown",
   "metadata": {},
   "source": [
    "# Deskripsi tugas\n",
    "\n",
    "Perusahaan taksi bernama Sweet Lift telah mengumpulkan data historis tentang pesanan taksi di bandara. Untuk menarik lebih banyak pengemudi pada jam sibuk, perlu memprediksi jumlah pesanan taksi untuk satu jam berikutnya. Buat model untuk prediksi seperti itu.\n",
    "\n",
    "Metrik RMSE pada *test set* tidak boleh lebih dari 48.\n",
    "\n",
    "## Instruksi tugas\n",
    "\n",
    "1. Unduh data dan lakukan *resampling* dalam satu jam.\n",
    "2. Analisis datanya.\n",
    "3.  Latih model yang berbeda dengan hiperparameter yang berbeda pula. Sampel tes harus 10% dari *dataset* awal.\n",
    "4. Uji data menggunakan sampel tes dan berikan kesimpulan.\n",
    "\n",
    "## Deskripsi data\n",
    "\n",
    "Data tersimpan di file `taxi.csv`. Jumlah pesanan di kolom'*num_orders*'."
   ]
  },
  {
   "cell_type": "markdown",
   "metadata": {},
   "source": [
    "## Persiapan"
   ]
  },
  {
   "cell_type": "code",
   "execution_count": 24,
   "metadata": {},
   "outputs": [],
   "source": [
    "import pandas as pd\n",
    "import numpy as np\n",
    "import matplotlib.pyplot as plt\n",
    "from statsmodels.tsa.seasonal import seasonal_decompose\n",
    "\n",
    "# from sklearnex import patch_sklearn # Enhanced performance package for Intel processors\n",
    "# patch_sklearn()\n",
    "\n",
    "from sklearn.model_selection import train_test_split, cross_val_score\n",
    "from sklearn.ensemble import RandomForestRegressor\n",
    "from sklearn.linear_model import LinearRegression\n",
    "from sklearn.preprocessing import PolynomialFeatures\n",
    "from sklearn.metrics import mean_squared_error as mse\n",
    "\n",
    "import catboost as cb"
   ]
  },
  {
   "cell_type": "markdown",
   "metadata": {},
   "source": [
    "Datanya berupa dua kolom, tanggal/waktu dan jumlah pesanan. Tanggal/waktu dapat dibuat menjadi indeks, dan diubah menjadi format pandas `datetime64`."
   ]
  },
  {
   "cell_type": "code",
   "execution_count": 25,
   "metadata": {},
   "outputs": [],
   "source": [
    "try:\n",
    "    df = pd.read_csv('taxi.csv', index_col=['datetime'], parse_dates=['datetime'])\n",
    "except:\n",
    "    df = pd.read_csv('/datasets/taxi.csv', index_col=['datetime'], parse_dates=['datetime'])"
   ]
  },
  {
   "cell_type": "code",
   "execution_count": 26,
   "metadata": {},
   "outputs": [],
   "source": [
    "df.sort_index(inplace=True)"
   ]
  },
  {
   "cell_type": "code",
   "execution_count": 27,
   "metadata": {},
   "outputs": [
    {
     "data": {
      "text/plain": [
       "num_orders    0\n",
       "dtype: int64"
      ]
     },
     "execution_count": 27,
     "metadata": {},
     "output_type": "execute_result"
    }
   ],
   "source": [
    "df.isna().sum()"
   ]
  },
  {
   "cell_type": "markdown",
   "metadata": {},
   "source": [
    "Tidak terdapat nilai missing value."
   ]
  },
  {
   "cell_type": "code",
   "execution_count": 28,
   "metadata": {
    "scrolled": true
   },
   "outputs": [
    {
     "data": {
      "text/html": [
       "<div>\n",
       "<style scoped>\n",
       "    .dataframe tbody tr th:only-of-type {\n",
       "        vertical-align: middle;\n",
       "    }\n",
       "\n",
       "    .dataframe tbody tr th {\n",
       "        vertical-align: top;\n",
       "    }\n",
       "\n",
       "    .dataframe thead th {\n",
       "        text-align: right;\n",
       "    }\n",
       "</style>\n",
       "<table border=\"1\" class=\"dataframe\">\n",
       "  <thead>\n",
       "    <tr style=\"text-align: right;\">\n",
       "      <th></th>\n",
       "      <th>num_orders</th>\n",
       "    </tr>\n",
       "    <tr>\n",
       "      <th>datetime</th>\n",
       "      <th></th>\n",
       "    </tr>\n",
       "  </thead>\n",
       "  <tbody>\n",
       "    <tr>\n",
       "      <th>2018-03-01 00:00:00</th>\n",
       "      <td>9</td>\n",
       "    </tr>\n",
       "    <tr>\n",
       "      <th>2018-03-01 00:10:00</th>\n",
       "      <td>14</td>\n",
       "    </tr>\n",
       "    <tr>\n",
       "      <th>2018-03-01 00:20:00</th>\n",
       "      <td>28</td>\n",
       "    </tr>\n",
       "    <tr>\n",
       "      <th>2018-03-01 00:30:00</th>\n",
       "      <td>20</td>\n",
       "    </tr>\n",
       "    <tr>\n",
       "      <th>2018-03-01 00:40:00</th>\n",
       "      <td>32</td>\n",
       "    </tr>\n",
       "  </tbody>\n",
       "</table>\n",
       "</div>"
      ],
      "text/plain": [
       "                     num_orders\n",
       "datetime                       \n",
       "2018-03-01 00:00:00           9\n",
       "2018-03-01 00:10:00          14\n",
       "2018-03-01 00:20:00          28\n",
       "2018-03-01 00:30:00          20\n",
       "2018-03-01 00:40:00          32"
      ]
     },
     "execution_count": 28,
     "metadata": {},
     "output_type": "execute_result"
    }
   ],
   "source": [
    "df.head()"
   ]
  },
  {
   "cell_type": "code",
   "execution_count": 29,
   "metadata": {},
   "outputs": [
    {
     "name": "stdout",
     "output_type": "stream",
     "text": [
      "<class 'pandas.core.frame.DataFrame'>\n",
      "DatetimeIndex: 26496 entries, 2018-03-01 00:00:00 to 2018-08-31 23:50:00\n",
      "Data columns (total 1 columns):\n",
      " #   Column      Non-Null Count  Dtype\n",
      "---  ------      --------------  -----\n",
      " 0   num_orders  26496 non-null  int64\n",
      "dtypes: int64(1)\n",
      "memory usage: 414.0 KB\n"
     ]
    }
   ],
   "source": [
    "df.info()"
   ]
  },
  {
   "cell_type": "markdown",
   "metadata": {},
   "source": [
    "Data akan diringkas menjadi jumlah perjalanan taksi per jam, bukan jumlah perjalanan taksi setiap sepuluh menit, seperti yang terjadi sekarang."
   ]
  },
  {
   "cell_type": "code",
   "execution_count": 30,
   "metadata": {},
   "outputs": [],
   "source": [
    "df = df.resample('1H').sum()"
   ]
  },
  {
   "cell_type": "code",
   "execution_count": 31,
   "metadata": {},
   "outputs": [
    {
     "name": "stdout",
     "output_type": "stream",
     "text": [
      "<class 'pandas.core.frame.DataFrame'>\n",
      "DatetimeIndex: 4416 entries, 2018-03-01 00:00:00 to 2018-08-31 23:00:00\n",
      "Freq: H\n",
      "Data columns (total 1 columns):\n",
      " #   Column      Non-Null Count  Dtype\n",
      "---  ------      --------------  -----\n",
      " 0   num_orders  4416 non-null   int64\n",
      "dtypes: int64(1)\n",
      "memory usage: 69.0 KB\n"
     ]
    }
   ],
   "source": [
    "df.info()"
   ]
  },
  {
   "cell_type": "markdown",
   "metadata": {},
   "source": [
    "Melihat panjang kerangka data sebelum dan sesudah pengambilan sampel ulang, kami pasti memiliki lebih sedikit nilai untuk dikerjakan. Datanya berkisar dari 1 Maret 2018 hingga 31 Agustus 2018. Saya ingin melihat tren umum sepanjang jangka waktu ini, yang dapat saya lakukan melalui paket `statsmodel`. Menggunakan transfrom Fourier melalui paket statsmodel yang sama, saya akan memeriksa musiman selama beberapa hari terakhir sebelum akhir kumpulan data, untuk melihat apakah ada pola pada hari-hari menjelang waktu prediksi."
   ]
  },
  {
   "cell_type": "markdown",
   "metadata": {},
   "source": [
    "## Analisis"
   ]
  },
  {
   "cell_type": "code",
   "execution_count": 32,
   "metadata": {},
   "outputs": [],
   "source": [
    "decomposed = seasonal_decompose(df)"
   ]
  },
  {
   "cell_type": "code",
   "execution_count": 33,
   "metadata": {},
   "outputs": [
    {
     "data": {
      "text/plain": [
       "Text(0.5, 1.0, 'Rides given over time')"
      ]
     },
     "execution_count": 33,
     "metadata": {},
     "output_type": "execute_result"
    },
    {
     "data": {
      "image/png": "[encoded data removed]",
      "text/plain": [
       "<Figure size 432x288 with 1 Axes>"
      ]
     },
     "metadata": {
      "needs_background": "light"
     },
     "output_type": "display_data"
    }
   ],
   "source": [
    "decomposed.trend.plot(ax=plt.gca())\n",
    "plt.title('Rides given over time')"
   ]
  },
  {
   "cell_type": "markdown",
   "metadata": {},
   "source": [
    "Jumlah penumpang taksi mencapai titik terendah pada bulan Maret dan secara bertahap meningkat seiring berjalannya waktu. Pada bulan Maret 2018, diberikan antara 40 dan 80 perjalanan per jam, sedangkan pada bulan Agustus 2018, sekitar 100 hingga 180 perjalanan diberikan per jam."
   ]
  },
  {
   "cell_type": "code",
   "execution_count": 34,
   "metadata": {
    "scrolled": true
   },
   "outputs": [
    {
     "data": {
      "text/plain": [
       "Text(0.5, 1.0, 'Seasonality of rides in late August (Fourier transform)')"
      ]
     },
     "execution_count": 34,
     "metadata": {},
     "output_type": "execute_result"
    },
    {
     "data": {
      "image/png": "[encoded data removed]",
      "text/plain": [
       "<Figure size 720x216 with 1 Axes>"
      ]
     },
     "metadata": {
      "needs_background": "light"
     },
     "output_type": "display_data"
    }
   ],
   "source": [
    "decomposed.seasonal['2018-08-21':'2018-08-31'].plot(figsize=(10,3))\n",
    "plt.title('Seasonality of rides in late August (Fourier transform)')"
   ]
  },
  {
   "cell_type": "markdown",
   "metadata": {},
   "source": [
    "Plot musiman ini menunjukkan pola pada hari-hari menjelang jam terakhir dalam kumpulan data. Saat saya mulai membuat fitur, saya perlu mengingat hal ini. Perjalanan taksi tampaknya maksimal pada tengah malam dan minimal beberapa jam setelahnya. Nantinya kita perlu memprediksi jumlah perjalanan dalam satu jam berikutnya, dan plot musiman ini menunjukkan kepada saya bahwa jumlah ini akan lebih tinggi daripada nilai sebelumnya, bukan lebih rendah.\n",
    "\n",
    "Saya mencari alternatif trigonometri untuk regresi linier karena siklusnya 24 jam, namun saya tidak menemukan opsi yang tersedia. Paling tidak, regressor polinomial seharusnya lebih baik daripada regressor linier, karena trennya terlihat agak melengkung."
   ]
  },
  {
   "cell_type": "code",
   "execution_count": 35,
   "metadata": {},
   "outputs": [
    {
     "data": {
      "text/plain": [
       "Text(0.5, 1.0, 'Residual noise from trends and seasonality')"
      ]
     },
     "execution_count": 35,
     "metadata": {},
     "output_type": "execute_result"
    },
    {
     "data": {
      "image/png": "[encoded data removed]",
      "text/plain": [
       "<Figure size 432x288 with 1 Axes>"
      ]
     },
     "metadata": {
      "needs_background": "light"
     },
     "output_type": "display_data"
    }
   ],
   "source": [
    "decomposed.resid.plot()\n",
    "plt.title('Residual noise from trends and seasonality')"
   ]
  },
  {
   "cell_type": "markdown",
   "metadata": {},
   "source": [
    "Residunya tidak tinggi secara keseluruhan, namun pada bulan Agustus terdapat beberapa residu yang tinggi.\n",
    "\n",
    "Secara visual, trennya tampaknya meningkat seiring berjalannya waktu, tetapi mari kita gambarkan rata-rata dan deviasi standarnya untuk mendapatkan gambaran yang lebih baik."
   ]
  },
  {
   "cell_type": "code",
   "execution_count": 36,
   "metadata": {},
   "outputs": [
    {
     "data": {
      "text/plain": [
       "<AxesSubplot:xlabel='datetime'>"
      ]
     },
     "execution_count": 36,
     "metadata": {},
     "output_type": "execute_result"
    },
    {
     "data": {
      "image/png": "[encoded data removed]",
      "text/plain": [
       "<Figure size 432x288 with 1 Axes>"
      ]
     },
     "metadata": {
      "needs_background": "light"
     },
     "output_type": "display_data"
    }
   ],
   "source": [
    "df_plot = df.copy()\n",
    "df_plot['mean'] = df_plot['num_orders'].rolling(24).mean()\n",
    "df_plot['std'] = df_plot['num_orders'].rolling(24).std()\n",
    "df_plot.plot()"
   ]
  },
  {
   "cell_type": "markdown",
   "metadata": {},
   "source": [
    "Tren kenaikan dari waktu ke waktu, baik mean maupun deviasi standar, dari plot di atas menunjukkan bahwa deret waktu ini merupakan proses stokastik yang tidak stasioner."
   ]
  },
  {
   "cell_type": "markdown",
   "metadata": {},
   "source": [
    "Akan ditambahkan beberapa kolom yang datanya tertinggal beberapa jam. Informasi tentang tanggal/waktu dan hari dalam seminggu juga akan berguna, karena informasi ini hanya terdapat dalam indeks dan model dapat menggunakan fitur ini untuk memanfaatkan musiman dalam prediksinya. Fitur dengan rata-rata bergulir dari beberapa jam terakhir juga akan membantu model mengidentifikasi tren."
   ]
  },
  {
   "cell_type": "code",
   "execution_count": 37,
   "metadata": {},
   "outputs": [],
   "source": [
    "def lag(df, max_lag):  \n",
    "    for lag in range(1, max_lag + 1):\n",
    "        df[f'lag_{lag}'] = df['num_orders'].shift(lag)    \n",
    "        \n",
    "def rolling_mean(df, mean_size):\n",
    "    df['rolling_mean'] = df['num_orders'].shift().rolling(mean_size).mean()"
   ]
  },
  {
   "cell_type": "code",
   "execution_count": 38,
   "metadata": {},
   "outputs": [],
   "source": [
    "df['month'] = df.index.month\n",
    "df['day'] = df.index.day\n",
    "df['hour'] = df.index.hour\n",
    "df['dayofweek'] = df.index.dayofweek"
   ]
  },
  {
   "cell_type": "markdown",
   "metadata": {},
   "source": [
    "Saya memilih jeda maksimal 6 jam karena seperempat hari dirasa masuk akal untuk memprediksi perjalanan saat ini. Saya memilih rata-rata bergulir 4 karena jumlah perjalanan tampaknya berubah dengan cepat dan saya tidak ingin modelnya melihat terlalu jauh ke masa lalu."
   ]
  },
  {
   "cell_type": "code",
   "execution_count": 39,
   "metadata": {},
   "outputs": [],
   "source": [
    "lag(df, max_lag=6)\n",
    "rolling_mean(df, mean_size=4)"
   ]
  },
  {
   "cell_type": "code",
   "execution_count": 40,
   "metadata": {
    "scrolled": true
   },
   "outputs": [
    {
     "data": {
      "text/html": [
       "<div>\n",
       "<style scoped>\n",
       "    .dataframe tbody tr th:only-of-type {\n",
       "        vertical-align: middle;\n",
       "    }\n",
       "\n",
       "    .dataframe tbody tr th {\n",
       "        vertical-align: top;\n",
       "    }\n",
       "\n",
       "    .dataframe thead th {\n",
       "        text-align: right;\n",
       "    }\n",
       "</style>\n",
       "<table border=\"1\" class=\"dataframe\">\n",
       "  <thead>\n",
       "    <tr style=\"text-align: right;\">\n",
       "      <th></th>\n",
       "      <th>num_orders</th>\n",
       "      <th>month</th>\n",
       "      <th>day</th>\n",
       "      <th>hour</th>\n",
       "      <th>dayofweek</th>\n",
       "      <th>lag_1</th>\n",
       "      <th>lag_2</th>\n",
       "      <th>lag_3</th>\n",
       "      <th>lag_4</th>\n",
       "      <th>lag_5</th>\n",
       "      <th>lag_6</th>\n",
       "      <th>rolling_mean</th>\n",
       "    </tr>\n",
       "    <tr>\n",
       "      <th>datetime</th>\n",
       "      <th></th>\n",
       "      <th></th>\n",
       "      <th></th>\n",
       "      <th></th>\n",
       "      <th></th>\n",
       "      <th></th>\n",
       "      <th></th>\n",
       "      <th></th>\n",
       "      <th></th>\n",
       "      <th></th>\n",
       "      <th></th>\n",
       "      <th></th>\n",
       "    </tr>\n",
       "  </thead>\n",
       "  <tbody>\n",
       "    <tr>\n",
       "      <th>2018-03-01 00:00:00</th>\n",
       "      <td>124</td>\n",
       "      <td>3</td>\n",
       "      <td>1</td>\n",
       "      <td>0</td>\n",
       "      <td>3</td>\n",
       "      <td>NaN</td>\n",
       "      <td>NaN</td>\n",
       "      <td>NaN</td>\n",
       "      <td>NaN</td>\n",
       "      <td>NaN</td>\n",
       "      <td>NaN</td>\n",
       "      <td>NaN</td>\n",
       "    </tr>\n",
       "    <tr>\n",
       "      <th>2018-03-01 01:00:00</th>\n",
       "      <td>85</td>\n",
       "      <td>3</td>\n",
       "      <td>1</td>\n",
       "      <td>1</td>\n",
       "      <td>3</td>\n",
       "      <td>124.0</td>\n",
       "      <td>NaN</td>\n",
       "      <td>NaN</td>\n",
       "      <td>NaN</td>\n",
       "      <td>NaN</td>\n",
       "      <td>NaN</td>\n",
       "      <td>NaN</td>\n",
       "    </tr>\n",
       "    <tr>\n",
       "      <th>2018-03-01 02:00:00</th>\n",
       "      <td>71</td>\n",
       "      <td>3</td>\n",
       "      <td>1</td>\n",
       "      <td>2</td>\n",
       "      <td>3</td>\n",
       "      <td>85.0</td>\n",
       "      <td>124.0</td>\n",
       "      <td>NaN</td>\n",
       "      <td>NaN</td>\n",
       "      <td>NaN</td>\n",
       "      <td>NaN</td>\n",
       "      <td>NaN</td>\n",
       "    </tr>\n",
       "    <tr>\n",
       "      <th>2018-03-01 03:00:00</th>\n",
       "      <td>66</td>\n",
       "      <td>3</td>\n",
       "      <td>1</td>\n",
       "      <td>3</td>\n",
       "      <td>3</td>\n",
       "      <td>71.0</td>\n",
       "      <td>85.0</td>\n",
       "      <td>124.0</td>\n",
       "      <td>NaN</td>\n",
       "      <td>NaN</td>\n",
       "      <td>NaN</td>\n",
       "      <td>NaN</td>\n",
       "    </tr>\n",
       "    <tr>\n",
       "      <th>2018-03-01 04:00:00</th>\n",
       "      <td>43</td>\n",
       "      <td>3</td>\n",
       "      <td>1</td>\n",
       "      <td>4</td>\n",
       "      <td>3</td>\n",
       "      <td>66.0</td>\n",
       "      <td>71.0</td>\n",
       "      <td>85.0</td>\n",
       "      <td>124.0</td>\n",
       "      <td>NaN</td>\n",
       "      <td>NaN</td>\n",
       "      <td>86.5</td>\n",
       "    </tr>\n",
       "  </tbody>\n",
       "</table>\n",
       "</div>"
      ],
      "text/plain": [
       "                     num_orders  month  day  hour  dayofweek  lag_1  lag_2  \\\n",
       "datetime                                                                     \n",
       "2018-03-01 00:00:00         124      3    1     0          3    NaN    NaN   \n",
       "2018-03-01 01:00:00          85      3    1     1          3  124.0    NaN   \n",
       "2018-03-01 02:00:00          71      3    1     2          3   85.0  124.0   \n",
       "2018-03-01 03:00:00          66      3    1     3          3   71.0   85.0   \n",
       "2018-03-01 04:00:00          43      3    1     4          3   66.0   71.0   \n",
       "\n",
       "                     lag_3  lag_4  lag_5  lag_6  rolling_mean  \n",
       "datetime                                                       \n",
       "2018-03-01 00:00:00    NaN    NaN    NaN    NaN           NaN  \n",
       "2018-03-01 01:00:00    NaN    NaN    NaN    NaN           NaN  \n",
       "2018-03-01 02:00:00    NaN    NaN    NaN    NaN           NaN  \n",
       "2018-03-01 03:00:00  124.0    NaN    NaN    NaN           NaN  \n",
       "2018-03-01 04:00:00   85.0  124.0    NaN    NaN          86.5  "
      ]
     },
     "execution_count": 40,
     "metadata": {},
     "output_type": "execute_result"
    }
   ],
   "source": [
    "df.head()"
   ]
  },
  {
   "cell_type": "markdown",
   "metadata": {},
   "source": [
    "Tabelnya terlihat sebagaimana mestinya. Nilai Nan di beberapa baris pertama berarti baris ini harus dihilangkan. Mari kita lakukan ini sebelum kita membagi tabel menjadi beberapa set."
   ]
  },
  {
   "cell_type": "code",
   "execution_count": 41,
   "metadata": {},
   "outputs": [],
   "source": [
    "df.dropna(inplace=True)"
   ]
  },
  {
   "cell_type": "markdown",
   "metadata": {},
   "source": [
    "###  Membuat Prediktif Models"
   ]
  },
  {
   "cell_type": "markdown",
   "metadata": {},
   "source": [
    "Saya akan mencoba model regresi linier sebagai sanity check, dan juga mencoba regressor polinomial. Selain itu akan dicoba model random forest melalui sklearn dan regressor CatBoost.\n",
    "\n",
    "Setelah itu dipisah menjadi kumpulan pelatihan, validasi, dan pengujian (dibagi secara kronologis, bukan acak), menggunakan kumpulan validasi untuk menemukan hyperparameter terbaik sebelum melatih model baru pada kumpulan pelatihan + validasi. Lalu akan memilih model terbaik dalam hal RMSE dan menguji kinerja pada set pengujian. Dan akan melatih model pada semua data dan membuat prediksi formal untuk satu jam setelah kumpulan data berakhir."
   ]
  },
  {
   "cell_type": "code",
   "execution_count": 42,
   "metadata": {},
   "outputs": [],
   "source": [
    "target = df.num_orders\n",
    "features = df.drop('num_orders', axis=1)"
   ]
  },
  {
   "cell_type": "code",
   "execution_count": 43,
   "metadata": {},
   "outputs": [],
   "source": [
    "\n",
    "features_tv, features_test, target_tv, target_test = train_test_split(\n",
    "    features, target, test_size=1/10, shuffle=False)\n",
    "features_train, features_valid, target_train, target_valid = train_test_split(\n",
    "    features_tv, target_tv, test_size=1/9, shuffle=False)"
   ]
  },
  {
   "cell_type": "markdown",
   "metadata": {},
   "source": [
    "### Linier Regression"
   ]
  },
  {
   "cell_type": "code",
   "execution_count": 44,
   "metadata": {},
   "outputs": [
    {
     "name": "stdout",
     "output_type": "stream",
     "text": [
      "RMSE for training set: 28.979309831490838\n",
      "RMSE for validation set: 40.682839398363036\n",
      "CPU times: user 6.52 ms, sys: 19.8 ms, total: 26.4 ms\n",
      "Wall time: 11.9 ms\n"
     ]
    }
   ],
   "source": [
    "%%time\n",
    "model = LinearRegression()\n",
    "model.fit(features_train, target_train)\n",
    "\n",
    "pred_train = model.predict(features_train)\n",
    "pred_valid = model.predict(features_valid)\n",
    "\n",
    "print('RMSE for training set:', np.sqrt(mse(target_train, pred_train)))\n",
    "print('RMSE for validation set:', np.sqrt(mse(target_valid, pred_valid)))"
   ]
  },
  {
   "cell_type": "markdown",
   "metadata": {},
   "source": [
    "RMSE untuk set validasi adalah 40,7, yaitu sekitar 35% lebih tinggi dibandingkan RMSE untuk set pelatihan. Modelnya sudah overfitted, tapi tidak keterlaluan."
   ]
  },
  {
   "cell_type": "markdown",
   "metadata": {},
   "source": [
    "### Polynomial Regression"
   ]
  },
  {
   "cell_type": "code",
   "execution_count": 45,
   "metadata": {},
   "outputs": [
    {
     "name": "stdout",
     "output_type": "stream",
     "text": [
      "Degree: 1\n",
      "RMSE for training set: 28.979309831490838\n",
      "RMSE for validation set: 40.682839398363036\n",
      "Degree: 2\n",
      "RMSE for training set: 25.376287853396484\n",
      "RMSE for validation set: 39.31335171728364\n",
      "Degree: 3\n",
      "RMSE for training set: 21.897243004816268\n",
      "RMSE for validation set: 52.01150845474393\n",
      "Degree: 4\n",
      "RMSE for training set: 17.62340612826726\n",
      "RMSE for validation set: 146.78943649255322\n"
     ]
    }
   ],
   "source": [
    "for degree in range(1, 5):\n",
    "    polynomial_trans = PolynomialFeatures(degree=degree)\n",
    "    features_train_poly = polynomial_trans.fit_transform(features_train)\n",
    "    poly_reg_model = LinearRegression()\n",
    "    poly_reg_model.fit(features_train_poly, target_train)\n",
    "    \n",
    "    pred_train = poly_reg_model.predict(features_train_poly)\n",
    "    pred_valid = poly_reg_model.predict(polynomial_trans.fit_transform(features_valid))\n",
    "    \n",
    "    print('Degree:', degree)\n",
    "    print('RMSE for training set:', np.sqrt(mse(target_train, pred_train)))\n",
    "    print('RMSE for validation set:', np.sqrt(mse(target_valid, pred_valid)))"
   ]
  },
  {
   "cell_type": "markdown",
   "metadata": {},
   "source": [
    "Model regresi linier dengan prapemrosesan kuadrat (derajat=2) memiliki kinerja sedikit lebih baik dibandingkan regresi linier biasa dengan 1 derajat. Kesenjangan antara RMSE untuk set pelatihan dan set validasi sedikit lebih tinggi, sehingga mungkin lebih cocok dibandingkan model sebelumnya, dan data ini memerlukan transformasi fitur sebelum setiap pelatihan dan prediksi, meskipun tampaknya hampir sama cepatnya. sebagai regresi linier. Saya kira saya akan memilih model ini daripada model regresi linier standar berdasarkan RMSE yang lebih rendah dan biaya tambahan yang minimal."
   ]
  },
  {
   "cell_type": "markdown",
   "metadata": {},
   "source": [
    "### Random Forest Regressor"
   ]
  },
  {
   "cell_type": "code",
   "execution_count": 46,
   "metadata": {},
   "outputs": [
    {
     "name": "stdout",
     "output_type": "stream",
     "text": [
      "5 16 37.481449010272144\n",
      "5 16 37.49257392562935\n",
      "5 16 39.290315419344\n",
      "5 16 38.50313257388805\n",
      "5 16 37.49257392562935\n",
      "5 16 39.290315419344\n",
      "5 16 36.28430937637386\n",
      "5 16 37.49257392562935\n",
      "5 16 39.290315419344\n",
      "5 17 36.46471278199076\n",
      "5 17 36.836500586633385\n",
      "5 17 39.47543179181662\n",
      "5 17 36.28576456949499\n",
      "5 17 36.836500586633385\n",
      "5 17 39.47543179181662\n",
      "5 17 37.872115989256244\n",
      "5 17 36.836500586633385\n",
      "5 17 39.47543179181662\n",
      "5 18 35.206762336455476\n",
      "5 18 37.60282333348899\n",
      "5 18 39.47543179181662\n",
      "5 18 36.997700365460105\n",
      "5 18 37.60282333348899\n",
      "5 18 39.47543179181662\n",
      "5 18 38.044816647884915\n",
      "5 18 37.60282333348899\n",
      "5 18 39.47543179181662\n",
      "5 19 36.120020948174776\n",
      "5 19 37.66430984682493\n",
      "5 19 39.47543179181662\n",
      "5 19 37.64422788106118\n",
      "5 19 37.66430984682493\n",
      "5 19 39.47543179181662\n",
      "5 19 36.36349442159569\n",
      "5 19 37.66430984682493\n",
      "5 19 39.47543179181662\n",
      "9 16 35.94374832824287\n",
      "9 16 37.3071768846874\n",
      "9 16 38.071557610826424\n",
      "9 16 37.27150630073563\n",
      "9 16 37.3071768846874\n",
      "9 16 38.071557610826424\n",
      "9 16 35.84607551375971\n",
      "9 16 37.3071768846874\n",
      "9 16 38.071557610826424\n",
      "9 17 35.5180143772819\n",
      "9 17 36.60695076397504\n",
      "9 17 38.99211676649722\n",
      "9 17 35.39606876377531\n",
      "9 17 36.60695076397504\n",
      "9 17 38.99211676649722\n",
      "9 17 37.46669201950217\n",
      "9 17 36.60695076397504\n",
      "9 17 38.99211676649722\n",
      "9 18 34.0403429277179\n",
      "9 18 37.43748302866878\n",
      "9 18 39.03611440341885\n",
      "9 18 36.20708342041598\n",
      "9 18 37.43748302866878\n",
      "9 18 39.03611440341885\n",
      "9 18 36.8788894817723\n",
      "9 18 37.43748302866878\n",
      "9 18 39.03611440341885\n",
      "9 19 35.32728467965312\n",
      "9 19 37.48326659184565\n",
      "9 19 38.697423773517485\n",
      "9 19 37.122444587693806\n",
      "9 19 37.48326659184565\n",
      "9 19 38.697423773517485\n",
      "9 19 35.79809550922154\n",
      "9 19 37.48326659184565\n",
      "9 19 38.697423773517485\n",
      "10 16 35.65875310396738\n",
      "10 16 36.96892656047372\n",
      "10 16 37.65593947795494\n",
      "10 16 37.30909981582842\n",
      "10 16 36.96892656047372\n",
      "10 16 37.65593947795494\n",
      "10 16 35.888291562124124\n",
      "10 16 36.96892656047372\n",
      "10 16 37.65593947795494\n",
      "10 17 35.467224235071036\n",
      "10 17 36.402936386926946\n",
      "10 17 38.43523317486014\n",
      "10 17 35.17552361683335\n",
      "10 17 36.402936386926946\n",
      "10 17 38.43523317486014\n",
      "10 17 37.86201922723424\n",
      "10 17 36.402936386926946\n",
      "10 17 38.43523317486014\n",
      "10 18 33.96225270608463\n",
      "10 18 36.82882129229826\n",
      "10 18 38.47577753616364\n",
      "10 18 36.666179787012055\n",
      "10 18 36.82882129229826\n",
      "10 18 38.47577753616364\n",
      "10 18 36.898449084112016\n",
      "10 18 36.82882129229826\n",
      "10 18 38.47577753616364\n",
      "10 19 35.32095858577147\n",
      "10 19 36.92960894234316\n",
      "10 19 38.18567008427761\n",
      "10 19 37.07217488637039\n",
      "10 19 36.92960894234316\n",
      "10 19 38.18567008427761\n",
      "10 19 35.57064917933187\n",
      "10 19 36.92960894234316\n",
      "10 19 38.18567008427761\n",
      "11 16 35.40613157910662\n",
      "11 16 36.80992766826154\n",
      "11 16 37.71177554619443\n",
      "11 16 36.962309002557625\n",
      "11 16 36.80992766826154\n",
      "11 16 37.71177554619443\n",
      "11 16 35.91819981872212\n",
      "11 16 36.80992766826154\n",
      "11 16 37.71177554619443\n",
      "11 17 35.48309947286116\n",
      "11 17 36.18066032549438\n",
      "11 17 38.52470672312602\n",
      "11 17 35.11283305281054\n",
      "11 17 36.18066032549438\n",
      "11 17 38.52470672312602\n",
      "11 17 37.44509960921713\n",
      "11 17 36.18066032549438\n",
      "11 17 38.52470672312602\n",
      "11 18 34.06256303544552\n",
      "11 18 36.723970105647524\n",
      "11 18 38.453243198792315\n",
      "11 18 36.20982401166569\n",
      "11 18 36.723970105647524\n",
      "11 18 38.453243198792315\n",
      "11 18 36.7458508335048\n",
      "11 18 36.723970105647524\n",
      "11 18 38.453243198792315\n",
      "11 19 35.15244231207372\n",
      "11 19 36.72451531443344\n",
      "11 19 38.191150112028076\n",
      "11 19 36.66891081789415\n",
      "11 19 36.72451531443344\n",
      "11 19 38.191150112028076\n",
      "11 19 35.58137205030467\n",
      "11 19 36.72451531443344\n",
      "11 19 38.191150112028076\n",
      "15 16 35.25102216656768\n",
      "15 16 36.81348270150289\n",
      "15 16 37.424437123668454\n",
      "15 16 36.118175644761806\n",
      "15 16 36.81348270150289\n",
      "15 16 37.424437123668454\n",
      "15 16 35.99038850342804\n",
      "15 16 36.81348270150289\n",
      "15 16 37.424437123668454\n",
      "15 17 35.148995694382116\n",
      "15 17 35.789902062575834\n",
      "15 17 38.359992392374934\n",
      "15 17 35.13210292061787\n",
      "15 17 35.789902062575834\n",
      "15 17 38.359992392374934\n",
      "15 17 37.67435216284673\n",
      "15 17 35.789902062575834\n",
      "15 17 38.359992392374934\n",
      "15 18 34.60547011286273\n",
      "15 18 36.47231186506291\n",
      "15 18 37.92353482362041\n",
      "15 18 36.18368080415123\n",
      "15 18 36.47231186506291\n",
      "15 18 37.92353482362041\n",
      "15 18 36.48961325353027\n",
      "15 18 36.47231186506291\n",
      "15 18 37.92353482362041\n",
      "15 19 35.610910813039965\n",
      "15 19 36.625304974797935\n",
      "15 19 37.91443448051809\n",
      "15 19 36.014689285310396\n",
      "15 19 36.625304974797935\n",
      "15 19 37.91443448051809\n",
      "15 19 35.883796796886806\n",
      "15 19 36.625304974797935\n",
      "15 19 37.91443448051809\n",
      "Number of trees: 10\n",
      "Max Depth: 18\n",
      "Best RMSE: 33.96225270608463\n",
      "Training RMSE: 10.585665209708889\n",
      "Min sample split: 2\n",
      "Min samples leaf: 1\n"
     ]
    }
   ],
   "source": [
    "best_est = 0\n",
    "best_depth = 0\n",
    "best_model = None\n",
    "best_rmse = 1e10\n",
    "current_rmse_train = 0\n",
    "best_split = 0\n",
    "best_leaf = 0\n",
    "for est in [5,9,10,11,15]:\n",
    "    for depth in range(16,20):\n",
    "        for samp_split in [2,5,10]:\n",
    "            for samp_leaf in [1,5,10]:\n",
    "                model = RandomForestRegressor(n_estimators=est, max_depth=depth, random_state=0, max_features='sqrt',\n",
    "                                             min_samples_split=samp_split, min_samples_leaf=samp_leaf)\n",
    "                model.fit(features_train, target_train)\n",
    "\n",
    "                pred_valid = model.predict(features_valid)\n",
    "                rmse_valid = np.sqrt(mse(target_valid, pred_valid))\n",
    "\n",
    "                pred_train = model.predict(features_train)\n",
    "                rmse_train = np.sqrt(mse(target_train, pred_train))\n",
    "\n",
    "                print(est, depth, rmse_valid)\n",
    "                if rmse_valid < best_rmse:\n",
    "                    best_rmse = rmse_valid\n",
    "                    best_model = model\n",
    "                    best_depth = depth\n",
    "                    best_est = est\n",
    "                    current_rmse_train = rmse_train\n",
    "                    best_split = samp_split\n",
    "                    best_leaf = samp_leaf\n",
    "print(f\"Number of trees: {best_est}\\nMax Depth: {best_depth}\\nBest RMSE: {best_rmse}\\nTraining RMSE: {current_rmse_train}\")\n",
    "print(f\"Min sample split: {best_split}\\nMin samples leaf: {best_leaf}\")"
   ]
  },
  {
   "cell_type": "markdown",
   "metadata": {},
   "source": [
    "RMSE yang divalidasi adalah 34,0, yang jelas lebih rendah dibandingkan model regresi linier. Namun, RMSE ini 3x lipat dari RMSE set pelatihan, yang mengindikasikan overfitting. Model ini akan dilatih dengan cepat hanya dengan 10 pohon dan beberapa ribu titik data."
   ]
  },
  {
   "cell_type": "markdown",
   "metadata": {},
   "source": [
    "### Catboost"
   ]
  },
  {
   "cell_type": "markdown",
   "metadata": {},
   "source": [
    "Saya akan menggunakan evaluator bawaan CatBoost untuk model regresinya dan mencoba hyperparameter yang berbeda. Pertama-tama saya akan menjalankan model dengan beberapa nilai yang masuk akal dengan plot evaluasi bawaan CatBoost dan mengukur berapa banyak penduga yang saya perlukan. Kemudian menemukan nilai `max_kedalaman` yang bagus, dan setelah itu saya akan mengerjakan hyperparameter yang mungkin membantu mengatasi overfitting. Lalu mengubah kecepatan pembelajaran dan jumlah estimator secara bersamaan untuk melihat apakah saya dapat menemukan peningkatan besar, jika tidak, akan menjaga `n_estimator` tetap tinggi."
   ]
  },
  {
   "cell_type": "code",
   "execution_count": 48,
   "metadata": {},
   "outputs": [
    {
     "data": {
      "application/vnd.jupyter.widget-view+json": {
       "model_id": "35fecf1b7ade411aa89dcbe3d54750d0",
       "version_major": 2,
       "version_minor": 0
      },
      "text/plain": [
       "MetricVisualizer(layout=Layout(align_self='stretch', height='500px'))"
      ]
     },
     "metadata": {},
     "output_type": "display_data"
    },
    {
     "name": "stdout",
     "output_type": "stream",
     "text": [
      "0:\tlearn: 35.5468310\ttest: 58.0158466\tbest: 58.0158466 (0)\ttotal: 5.29ms\tremaining: 8.39s\n",
      "100:\tlearn: 25.7809002\ttest: 44.3587942\tbest: 44.3587942 (100)\ttotal: 471ms\tremaining: 6.94s\n",
      "200:\tlearn: 22.7723454\ttest: 38.9980892\tbest: 38.9980892 (200)\ttotal: 960ms\tremaining: 6.63s\n",
      "300:\tlearn: 21.3064051\ttest: 36.4829688\tbest: 36.4829688 (300)\ttotal: 1.44s\tremaining: 6.14s\n",
      "400:\tlearn: 20.3465743\ttest: 35.1336729\tbest: 35.1336729 (400)\ttotal: 1.89s\tremaining: 5.61s\n",
      "500:\tlearn: 19.5761919\ttest: 34.3496421\tbest: 34.3496421 (500)\ttotal: 2.39s\tremaining: 5.2s\n",
      "600:\tlearn: 18.8930076\ttest: 33.7593208\tbest: 33.7593208 (600)\ttotal: 2.86s\tremaining: 4.69s\n",
      "700:\tlearn: 18.3109544\ttest: 33.4236614\tbest: 33.4236614 (700)\ttotal: 3.4s\tremaining: 4.31s\n",
      "800:\tlearn: 17.7345928\ttest: 33.1444972\tbest: 33.1434661 (799)\ttotal: 3.91s\tremaining: 3.84s\n",
      "900:\tlearn: 17.1957518\ttest: 32.9355038\tbest: 32.9355038 (900)\ttotal: 4.48s\tremaining: 3.42s\n",
      "1000:\tlearn: 16.6631826\ttest: 32.7767413\tbest: 32.7741085 (999)\ttotal: 4.94s\tremaining: 2.9s\n",
      "1100:\tlearn: 16.1538177\ttest: 32.6677000\tbest: 32.6677000 (1100)\ttotal: 5.5s\tremaining: 2.43s\n",
      "1200:\tlearn: 15.6528548\ttest: 32.5172537\tbest: 32.5172537 (1200)\ttotal: 5.98s\tremaining: 1.93s\n",
      "1300:\tlearn: 15.2539783\ttest: 32.4225653\tbest: 32.4223312 (1299)\ttotal: 6.59s\tremaining: 1.45s\n",
      "1400:\tlearn: 14.8589476\ttest: 32.3702870\tbest: 32.3649630 (1398)\ttotal: 7.06s\tremaining: 943ms\n",
      "1500:\tlearn: 14.5143068\ttest: 32.3534717\tbest: 32.3394150 (1471)\ttotal: 7.61s\tremaining: 441ms\n",
      "1587:\tlearn: 14.2171297\ttest: 32.3048996\tbest: 32.3048996 (1587)\ttotal: 8s\tremaining: 0us\n",
      "\n",
      "bestTest = 32.30489957\n",
      "bestIteration = 1587\n",
      "\n",
      "CPU times: user 8.03 s, sys: 67.7 ms, total: 8.1 s\n",
      "Wall time: 8.48 s\n"
     ]
    },
    {
     "data": {
      "text/plain": [
       "<catboost.core.CatBoostRegressor at 0x7f8a3e597cd0>"
      ]
     },
     "execution_count": 48,
     "metadata": {},
     "output_type": "execute_result"
    }
   ],
   "source": [
    "model_cb = cb.CatBoostRegressor(verbose=100, random_state=0, n_estimators=1588, learning_rate=0.01, max_depth=7, subsample=1,\n",
    "                                           colsample_bylevel=1, l2_leaf_reg=0)\n",
    "%time model_cb.fit(features_train, target_train, plot=True, eval_set=(features_valid, target_valid))"
   ]
  },
  {
   "cell_type": "markdown",
   "metadata": {},
   "source": [
    "Setelah mengikuti proses yang saya uraikan di atas model dan menggunakan hyperparameter ini. Dengan RMSE sebesar 32,3, yang sedikit lebih baik dibandingkan dengan Random Forest Regression. Perbedaan RMSE antara set pelatihan dan validasi juga lebih kecil dibandingkan dengan random forest, yang lebih menjanjikan dalam hal overfitting. Pelatihan hanya membutuhkan waktu beberapa detik"
   ]
  },
  {
   "cell_type": "markdown",
   "metadata": {},
   "source": [
    "### Test Final Model"
   ]
  },
  {
   "cell_type": "markdown",
   "metadata": {},
   "source": [
    "Menggunakan model CatBoost di sini, karena model tersebut memiliki RMSE terendah dari semua model, pelatihan cepat, dan risiko overfitting yang lebih kecil dibandingkan model dengan kinerja terbaik kedua, random forest. Saya akan melatih model pada set pelatihan + validasi dan menggunakan set pengujian untuk evaluasi akhir."
   ]
  },
  {
   "cell_type": "code",
   "execution_count": 49,
   "metadata": {},
   "outputs": [
    {
     "name": "stdout",
     "output_type": "stream",
     "text": [
      "0:\tlearn: 38.4711304\ttest: 84.5543470\tbest: 84.5543470 (0)\ttotal: 5.65ms\tremaining: 8.97s\n",
      "100:\tlearn: 27.5684262\ttest: 65.8461109\tbest: 65.8461109 (100)\ttotal: 522ms\tremaining: 7.68s\n",
      "200:\tlearn: 24.1171741\ttest: 56.1788109\tbest: 56.1788109 (200)\ttotal: 1.02s\tremaining: 7.07s\n",
      "300:\tlearn: 22.4886752\ttest: 51.2777100\tbest: 51.2777100 (300)\ttotal: 1.54s\tremaining: 6.57s\n",
      "400:\tlearn: 21.4402705\ttest: 48.5835041\tbest: 48.5835041 (400)\ttotal: 2.03s\tremaining: 6.02s\n",
      "500:\tlearn: 20.6159497\ttest: 47.2347373\tbest: 47.2255658 (499)\ttotal: 2.54s\tremaining: 5.5s\n",
      "600:\tlearn: 19.9265713\ttest: 46.4536202\tbest: 46.4512934 (599)\ttotal: 3.04s\tremaining: 4.99s\n",
      "700:\tlearn: 19.3181367\ttest: 45.7617078\tbest: 45.7617078 (700)\ttotal: 3.56s\tremaining: 4.5s\n",
      "800:\tlearn: 18.7114193\ttest: 45.2347881\tbest: 45.2347881 (800)\ttotal: 4.06s\tremaining: 3.99s\n",
      "900:\tlearn: 18.1650754\ttest: 44.9117011\tbest: 44.9117011 (900)\ttotal: 4.55s\tremaining: 3.47s\n",
      "1000:\tlearn: 17.5902732\ttest: 44.6351910\tbest: 44.6296824 (999)\ttotal: 5.05s\tremaining: 2.96s\n",
      "1100:\tlearn: 17.0228519\ttest: 44.3868765\tbest: 44.3868765 (1100)\ttotal: 5.55s\tremaining: 2.46s\n",
      "1200:\tlearn: 16.5051606\ttest: 44.1691485\tbest: 44.1589006 (1199)\ttotal: 6.05s\tremaining: 1.95s\n",
      "1300:\tlearn: 16.0885333\ttest: 44.0503067\tbest: 44.0465213 (1296)\ttotal: 6.54s\tremaining: 1.44s\n",
      "1400:\tlearn: 15.6928469\ttest: 43.9142968\tbest: 43.9142968 (1400)\ttotal: 7.04s\tremaining: 939ms\n",
      "1500:\tlearn: 15.2971718\ttest: 43.6888289\tbest: 43.6888289 (1500)\ttotal: 7.53s\tremaining: 437ms\n",
      "1587:\tlearn: 14.9647679\ttest: 43.5754677\tbest: 43.5754677 (1587)\ttotal: 7.97s\tremaining: 0us\n",
      "\n",
      "bestTest = 43.57546768\n",
      "bestIteration = 1587\n",
      "\n"
     ]
    },
    {
     "data": {
      "text/plain": [
       "<catboost.core.CatBoostRegressor at 0x7f8a3e083e50>"
      ]
     },
     "execution_count": 49,
     "metadata": {},
     "output_type": "execute_result"
    }
   ],
   "source": [
    "model_cb = cb.CatBoostRegressor(verbose=100, random_state=0, n_estimators=1588, learning_rate=0.01, max_depth=7, subsample=1,\n",
    "                                           colsample_bylevel=1, l2_leaf_reg=0)\n",
    "model_cb.fit(features_tv, target_tv, eval_set=(features_test, target_test))"
   ]
  },
  {
   "cell_type": "markdown",
   "metadata": {},
   "source": [
    "RMSE akhir yang diuji adalah 43,6, yang jelas berada dalam persyaratan RMSE, meskipun jauh lebih besar daripada RMSE yang divalidasi. Ini mengecewakan tapi jelas bisa diterima. Sekarang saya dapat melatih model ini di seluruh kumpulan data dan membuat perkiraan cakrawala satu langkah, untuk satu jam berikutnya."
   ]
  },
  {
   "cell_type": "code",
   "execution_count": 50,
   "metadata": {
    "scrolled": true
   },
   "outputs": [
    {
     "name": "stdout",
     "output_type": "stream",
     "text": [
      "0:\tlearn: 44.7874073\ttotal: 6.38ms\tremaining: 10.1s\n",
      "100:\tlearn: 31.0341830\ttotal: 587ms\tremaining: 8.65s\n",
      "200:\tlearn: 26.5215374\ttotal: 1.13s\tremaining: 7.83s\n",
      "300:\tlearn: 24.4518301\ttotal: 1.7s\tremaining: 7.26s\n",
      "400:\tlearn: 23.2144211\ttotal: 2.25s\tremaining: 6.65s\n",
      "500:\tlearn: 22.3055848\ttotal: 2.8s\tremaining: 6.07s\n",
      "600:\tlearn: 21.6126214\ttotal: 3.34s\tremaining: 5.48s\n",
      "700:\tlearn: 20.9753396\ttotal: 3.9s\tremaining: 4.94s\n",
      "800:\tlearn: 20.3255920\ttotal: 4.45s\tremaining: 4.38s\n",
      "900:\tlearn: 19.7626449\ttotal: 5.02s\tremaining: 3.83s\n",
      "1000:\tlearn: 19.2121923\ttotal: 5.57s\tremaining: 3.27s\n",
      "1100:\tlearn: 18.6585224\ttotal: 6.13s\tremaining: 2.71s\n",
      "1200:\tlearn: 18.1072336\ttotal: 6.69s\tremaining: 2.15s\n",
      "1300:\tlearn: 17.6230289\ttotal: 7.25s\tremaining: 1.6s\n",
      "1400:\tlearn: 17.1640173\ttotal: 7.79s\tremaining: 1.04s\n",
      "1500:\tlearn: 16.7482083\ttotal: 8.35s\tremaining: 484ms\n",
      "1587:\tlearn: 16.4282159\ttotal: 8.82s\tremaining: 0us\n"
     ]
    },
    {
     "data": {
      "text/plain": [
       "<catboost.core.CatBoostRegressor at 0x7f8a3e7a1d30>"
      ]
     },
     "execution_count": 50,
     "metadata": {},
     "output_type": "execute_result"
    }
   ],
   "source": [
    "model_cb = cb.CatBoostRegressor(verbose=100, random_state=0, n_estimators=1588, learning_rate=0.01, max_depth=7, subsample=1,\n",
    "                                           colsample_bylevel=1, l2_leaf_reg=0)\n",
    "model_cb.fit(features, target)"
   ]
  },
  {
   "cell_type": "code",
   "execution_count": 51,
   "metadata": {
    "scrolled": true
   },
   "outputs": [
    {
     "data": {
      "text/html": [
       "<div>\n",
       "<style scoped>\n",
       "    .dataframe tbody tr th:only-of-type {\n",
       "        vertical-align: middle;\n",
       "    }\n",
       "\n",
       "    .dataframe tbody tr th {\n",
       "        vertical-align: top;\n",
       "    }\n",
       "\n",
       "    .dataframe thead th {\n",
       "        text-align: right;\n",
       "    }\n",
       "</style>\n",
       "<table border=\"1\" class=\"dataframe\">\n",
       "  <thead>\n",
       "    <tr style=\"text-align: right;\">\n",
       "      <th></th>\n",
       "      <th>num_orders</th>\n",
       "      <th>month</th>\n",
       "      <th>day</th>\n",
       "      <th>hour</th>\n",
       "      <th>dayofweek</th>\n",
       "      <th>lag_1</th>\n",
       "      <th>lag_2</th>\n",
       "      <th>lag_3</th>\n",
       "      <th>lag_4</th>\n",
       "      <th>lag_5</th>\n",
       "      <th>lag_6</th>\n",
       "      <th>rolling_mean</th>\n",
       "    </tr>\n",
       "    <tr>\n",
       "      <th>datetime</th>\n",
       "      <th></th>\n",
       "      <th></th>\n",
       "      <th></th>\n",
       "      <th></th>\n",
       "      <th></th>\n",
       "      <th></th>\n",
       "      <th></th>\n",
       "      <th></th>\n",
       "      <th></th>\n",
       "      <th></th>\n",
       "      <th></th>\n",
       "      <th></th>\n",
       "    </tr>\n",
       "  </thead>\n",
       "  <tbody>\n",
       "    <tr>\n",
       "      <th>2018-08-31 19:00:00</th>\n",
       "      <td>136</td>\n",
       "      <td>8</td>\n",
       "      <td>31</td>\n",
       "      <td>19</td>\n",
       "      <td>4</td>\n",
       "      <td>207.0</td>\n",
       "      <td>217.0</td>\n",
       "      <td>197.0</td>\n",
       "      <td>116.0</td>\n",
       "      <td>133.0</td>\n",
       "      <td>166.0</td>\n",
       "      <td>184.25</td>\n",
       "    </tr>\n",
       "    <tr>\n",
       "      <th>2018-08-31 20:00:00</th>\n",
       "      <td>154</td>\n",
       "      <td>8</td>\n",
       "      <td>31</td>\n",
       "      <td>20</td>\n",
       "      <td>4</td>\n",
       "      <td>136.0</td>\n",
       "      <td>207.0</td>\n",
       "      <td>217.0</td>\n",
       "      <td>197.0</td>\n",
       "      <td>116.0</td>\n",
       "      <td>133.0</td>\n",
       "      <td>189.25</td>\n",
       "    </tr>\n",
       "    <tr>\n",
       "      <th>2018-08-31 21:00:00</th>\n",
       "      <td>159</td>\n",
       "      <td>8</td>\n",
       "      <td>31</td>\n",
       "      <td>21</td>\n",
       "      <td>4</td>\n",
       "      <td>154.0</td>\n",
       "      <td>136.0</td>\n",
       "      <td>207.0</td>\n",
       "      <td>217.0</td>\n",
       "      <td>197.0</td>\n",
       "      <td>116.0</td>\n",
       "      <td>178.50</td>\n",
       "    </tr>\n",
       "    <tr>\n",
       "      <th>2018-08-31 22:00:00</th>\n",
       "      <td>223</td>\n",
       "      <td>8</td>\n",
       "      <td>31</td>\n",
       "      <td>22</td>\n",
       "      <td>4</td>\n",
       "      <td>159.0</td>\n",
       "      <td>154.0</td>\n",
       "      <td>136.0</td>\n",
       "      <td>207.0</td>\n",
       "      <td>217.0</td>\n",
       "      <td>197.0</td>\n",
       "      <td>164.00</td>\n",
       "    </tr>\n",
       "    <tr>\n",
       "      <th>2018-08-31 23:00:00</th>\n",
       "      <td>205</td>\n",
       "      <td>8</td>\n",
       "      <td>31</td>\n",
       "      <td>23</td>\n",
       "      <td>4</td>\n",
       "      <td>223.0</td>\n",
       "      <td>159.0</td>\n",
       "      <td>154.0</td>\n",
       "      <td>136.0</td>\n",
       "      <td>207.0</td>\n",
       "      <td>217.0</td>\n",
       "      <td>168.00</td>\n",
       "    </tr>\n",
       "  </tbody>\n",
       "</table>\n",
       "</div>"
      ],
      "text/plain": [
       "                     num_orders  month  day  hour  dayofweek  lag_1  lag_2  \\\n",
       "datetime                                                                     \n",
       "2018-08-31 19:00:00         136      8   31    19          4  207.0  217.0   \n",
       "2018-08-31 20:00:00         154      8   31    20          4  136.0  207.0   \n",
       "2018-08-31 21:00:00         159      8   31    21          4  154.0  136.0   \n",
       "2018-08-31 22:00:00         223      8   31    22          4  159.0  154.0   \n",
       "2018-08-31 23:00:00         205      8   31    23          4  223.0  159.0   \n",
       "\n",
       "                     lag_3  lag_4  lag_5  lag_6  rolling_mean  \n",
       "datetime                                                       \n",
       "2018-08-31 19:00:00  197.0  116.0  133.0  166.0        184.25  \n",
       "2018-08-31 20:00:00  217.0  197.0  116.0  133.0        189.25  \n",
       "2018-08-31 21:00:00  207.0  217.0  197.0  116.0        178.50  \n",
       "2018-08-31 22:00:00  136.0  207.0  217.0  197.0        164.00  \n",
       "2018-08-31 23:00:00  154.0  136.0  207.0  217.0        168.00  "
      ]
     },
     "execution_count": 51,
     "metadata": {},
     "output_type": "execute_result"
    }
   ],
   "source": [
    "df.tail(5)"
   ]
  },
  {
   "cell_type": "markdown",
   "metadata": {},
   "source": [
    "Untuk membuat pengamatan sendiri satu jam ke depan dan membuat prediksi langsung dari sini. Saya melihat observasi ekor dari kumpulan data untuk mendapatkan informasi ini."
   ]
  },
  {
   "cell_type": "code",
   "execution_count": 52,
   "metadata": {},
   "outputs": [
    {
     "name": "stdout",
     "output_type": "stream",
     "text": [
      "222.3769577616068\n"
     ]
    }
   ],
   "source": [
    "next_observation_features = np.array([9, 1, 0, 5, 205, 223, 159, 154, 136, 207, 174.94])\n",
    "\n",
    "future_prediction = model_cb.predict(next_observation_features)\n",
    "print(future_prediction)"
   ]
  },
  {
   "cell_type": "markdown",
   "metadata": {},
   "source": [
    "Dalam satu jam ke depan, diperkirakan ada 222 perjalanan taksi."
   ]
  },
  {
   "cell_type": "markdown",
   "metadata": {},
   "source": [
    "## Kesimpulan"
   ]
  },
  {
   "cell_type": "markdown",
   "metadata": {},
   "source": [
    "Saya diberikan data deret waktu mengenai perjalanan Taksi Sweet Lift, dan menemukan bahwa dari bulan Maret hingga Agustus, jumlah perjalanan per jam umumnya meningkat seiring berjalannya waktu, terendah pada bulan Maret dan tertinggi pada bulan Agustus. Sepanjang hari di akhir Agustus, tampaknya terdapat musim yang dapat diandalkan, dengan jam-jam berbeda dengan puncak perjalanan. Saya melatih model regresi linier dengan urutan yang berbeda-beda, model hutan acak, dan model regresi yang ditingkatkan gradien CatBoost. Model CatBoost memiliki RMSE validasi terbaik, jadi saya memilih model ini untuk diuji sebagai model akhir saya. Root mean squared error yang diuji akhir adalah 43,6 naik taksi, jauh di bawah persyaratan perusahaan yaitu 48 naik taksi. Saya membuat prediksi untuk satu jam ke depan bahwa 217 perjalanan taksi akan dilakukan, yang tampaknya masuk akal mengingat tren masa lalu."
   ]
  },
  {
   "cell_type": "markdown",
   "metadata": {},
   "source": [
    "# Daftar Periksa Penilaian"
   ]
  },
  {
   "cell_type": "markdown",
   "metadata": {},
   "source": [
    "- [x]  Jupyter Notebook bisa dibuka.\n",
    "- [ ]  Tidak ada kesalahan dalam kode\n",
    "- [ ]  Sel-sel dengan kode telah disusun berdasarkan urutan eksekusi.\n",
    "- [ ]  Data telah diunduh dan disiapkan\n",
    "- [ ]  Data telah dianalisis\n",
    "- [ ]  Model sudah dilatih dan hiperparameter sudah dipilih\n",
    "- [ ]  Model sudah dievaluasi. Kesimpulan sudah ada.\n",
    "- [ ] *RMSE* untuk *test set* tidak lebih dari 48"
   ]
  },
  {
   "cell_type": "code",
   "execution_count": null,
   "metadata": {},
   "outputs": [],
   "source": []
  }
 ],
 "metadata": {
  "kernelspec": {
   "display_name": "Python 3 (ipykernel)",
   "language": "python",
   "name": "python3"
  },
  "language_info": {
   "codemirror_mode": {
    "name": "ipython",
    "version": 3
   },
   "file_extension": ".py",
   "mimetype": "text/x-python",
   "name": "python",
   "nbconvert_exporter": "python",
   "pygments_lexer": "ipython3",
   "version": "3.9.19"
  },
  "toc": {
   "base_numbering": 1,
   "nav_menu": {},
   "number_sections": true,
   "sideBar": true,
   "skip_h1_title": true,
   "title_cell": "Table of Contents",
   "title_sidebar": "Contents",
   "toc_cell": false,
   "toc_position": {},
   "toc_section_display": true,
   "toc_window_display": false
  }
 },
 "nbformat": 4,
 "nbformat_minor": 2
}
